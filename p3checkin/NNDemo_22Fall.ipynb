{
  "cells": [
    {
      "cell_type": "code",
      "execution_count": 1,
      "metadata": {
        "id": "B7z57Ageb0N0"
      },
      "outputs": [],
      "source": [
        "# Building On Example from https://machinelearningmastery.com/tensorflow-tutorial-deep-learning-with-tf-keras/\n",
        "# Building On Example from https://www.tensorflow.org/tutorials/images/cnn\n",
        "# Building On Example from https://www.guru99.com/rnn-tutorial.html\n",
        "# Building On Example from https://machinelearningmastery.com/prepare-univariate-time-series-data-long-short-term-memory-networks/\n",
        "# Building On Example from TensorFlow Documentation\n",
        "# For a multi-feature example, see: https://github.com/Hvass-Labs/TensorFlow-Tutorials/blob/master/23_Time-Series-Prediction.ipynb\n",
        "\n",
        "\n",
        "%matplotlib inline\n",
        "import matplotlib\n",
        "import matplotlib.pyplot as plt\n",
        "import pandas as pd\n",
        "import numpy as np\n",
        "import tensorflow as tf\n",
        "from tensorflow import keras\n",
        "from tensorflow.keras import layers\n",
        "import sklearn.datasets\n",
        "import sklearn.model_selection"
      ]
    },
    {
      "cell_type": "markdown",
      "source": [
        "First, let's set up a simple dataset. We know digits already, and it's a good, usable set of images, so let's start there."
      ],
      "metadata": {
        "id": "aSY4FLyaG_jG"
      }
    },
    {
      "cell_type": "code",
      "source": [
        "images = sklearn.datasets.load_digits()\n",
        "X_train, X_test, y_train, y_test = sklearn.model_selection.train_test_split(images.data, images.target, test_size=0.2, random_state=42)\n",
        "print(X_train.shape, X_test.shape, y_train, y_test)"
      ],
      "metadata": {
        "id": "X-uOIWORtXLz",
        "colab": {
          "base_uri": "https://localhost:8080/"
        },
        "outputId": "0085c091-1367-4b1d-fb4f-ce69781befb1"
      },
      "execution_count": 2,
      "outputs": [
        {
          "output_type": "stream",
          "name": "stdout",
          "text": [
            "(1437, 64) (360, 64) [6 0 0 ... 2 7 1] [6 9 3 7 2 1 5 2 5 2 1 9 4 0 4 2 3 7 8 8 4 3 9 7 5 6 3 5 6 3 4 9 1 4 4 6 9\n",
            " 4 7 6 6 9 1 3 6 1 3 0 6 5 5 1 9 5 6 0 9 0 0 1 0 4 5 2 4 5 7 0 7 5 9 5 5 4\n",
            " 7 0 4 5 5 9 9 0 2 3 8 0 6 4 4 9 1 2 8 3 5 2 9 0 4 4 4 3 5 3 1 3 5 9 4 2 7\n",
            " 7 4 4 1 9 2 7 8 7 2 6 9 4 0 7 2 7 5 8 7 5 7 7 0 6 6 4 2 8 0 9 4 6 9 9 6 9\n",
            " 0 3 5 6 6 0 6 4 3 9 3 9 7 2 9 0 4 5 3 6 5 9 9 8 4 2 1 3 7 7 2 2 3 9 8 0 3\n",
            " 2 2 5 6 9 9 4 1 5 4 2 3 6 4 8 5 9 5 7 8 9 4 8 1 5 4 4 9 6 1 8 6 0 4 5 2 7\n",
            " 4 6 4 5 6 0 3 2 3 6 7 1 5 1 4 7 6 8 8 5 5 1 6 2 8 8 9 9 7 6 2 2 2 3 4 8 8\n",
            " 3 6 0 9 7 7 0 1 0 4 5 1 5 3 6 0 4 1 0 0 3 6 5 9 7 3 5 5 9 9 8 5 3 3 2 0 5\n",
            " 8 3 4 0 2 4 6 4 3 4 5 0 5 2 1 3 1 4 1 1 7 0 1 5 2 1 2 8 7 0 6 4 8 8 5 1 8\n",
            " 4 5 8 7 9 8 5 0 6 2 0 7 9 8 9 5 2 7 7 1 8 7 4 3 8 3 5]\n"
          ]
        }
      ]
    },
    {
      "cell_type": "markdown",
      "source": [
        "Next, let's make a Feed-Forward Neural Network."
      ],
      "metadata": {
        "id": "_8Etj755HOV0"
      }
    },
    {
      "cell_type": "code",
      "source": [
        "FFmodel = keras.Sequential()\n",
        "FFmodel.add(layers.Dense(10, input_shape = (64,), activation='relu'))\n",
        "FFmodel.add(layers.Dense(10, activation='softmax'))\n",
        "\n",
        "FFmodel.compile(optimizer='sgd', loss='sparse_categorical_crossentropy', metrics=['accuracy'])\n",
        "FFmodel.fit(X_train, y_train, epochs=10, batch_size=32)\n"
      ],
      "metadata": {
        "id": "53Rl7kkB_gi1",
        "colab": {
          "base_uri": "https://localhost:8080/"
        },
        "outputId": "b2c0bd18-050f-4383-903b-ca18e7e43de8"
      },
      "execution_count": 3,
      "outputs": [
        {
          "output_type": "stream",
          "name": "stdout",
          "text": [
            "Epoch 1/10\n",
            "45/45 [==============================] - 1s 5ms/step - loss: 2.5591 - accuracy: 0.1754\n",
            "Epoch 2/10\n",
            "45/45 [==============================] - 0s 2ms/step - loss: 1.9235 - accuracy: 0.3076\n",
            "Epoch 3/10\n",
            "45/45 [==============================] - 0s 2ms/step - loss: 1.7272 - accuracy: 0.4001\n",
            "Epoch 4/10\n",
            "45/45 [==============================] - 0s 2ms/step - loss: 1.5129 - accuracy: 0.4704\n",
            "Epoch 5/10\n",
            "45/45 [==============================] - 0s 2ms/step - loss: 1.2904 - accuracy: 0.5532\n",
            "Epoch 6/10\n",
            "45/45 [==============================] - 0s 2ms/step - loss: 1.0855 - accuracy: 0.6423\n",
            "Epoch 7/10\n",
            "45/45 [==============================] - 0s 2ms/step - loss: 0.8873 - accuracy: 0.7056\n",
            "Epoch 8/10\n",
            "45/45 [==============================] - 0s 2ms/step - loss: 0.7095 - accuracy: 0.7578\n",
            "Epoch 9/10\n",
            "45/45 [==============================] - 0s 1ms/step - loss: 0.5897 - accuracy: 0.8045\n",
            "Epoch 10/10\n",
            "45/45 [==============================] - 0s 2ms/step - loss: 0.5169 - accuracy: 0.8386\n"
          ]
        },
        {
          "output_type": "execute_result",
          "data": {
            "text/plain": [
              "<keras.callbacks.History at 0x7f1249a54910>"
            ]
          },
          "metadata": {},
          "execution_count": 3
        }
      ]
    },
    {
      "cell_type": "markdown",
      "source": [
        "\"Sequential\" is the object that allows us to add layers in sequence (hence the name) to build our model piece by piece.\n",
        "\n",
        "\"Dense\" is a fully connected layer of nodes. I set how many nodes I want in the layer and the activation function. In the starting layer, I also have to specify the size and shape of my input.\n",
        "\n",
        "We compile a model to set up the metrics we will use in the fitting process as well as any evaluation metrics.\n",
        "\n",
        "We fit on the training set.\n",
        "\n",
        "We evaluate on the test set."
      ],
      "metadata": {
        "id": "nbripjDfHXBs"
      }
    },
    {
      "cell_type": "code",
      "source": [
        "loss, acc = FFmodel.evaluate(X_test, y_test)\n",
        "print('Test Accuracy FFNN ' + str(acc))"
      ],
      "metadata": {
        "id": "4Z6I17-nI53F",
        "colab": {
          "base_uri": "https://localhost:8080/"
        },
        "outputId": "09d61d3c-74c8-4650-96b4-5c77c5973237"
      },
      "execution_count": 4,
      "outputs": [
        {
          "output_type": "stream",
          "name": "stdout",
          "text": [
            "12/12 [==============================] - 0s 2ms/step - loss: 0.5656 - accuracy: 0.8028\n",
            "Test Accuracy FFNN 0.8027777671813965\n"
          ]
        }
      ]
    },
    {
      "cell_type": "markdown",
      "source": [
        "Now, let's try a Convolutional Neural Net!"
      ],
      "metadata": {
        "id": "2Fi4V2Z-IKiX"
      }
    },
    {
      "cell_type": "code",
      "source": [
        "X_train_square = tf.reshape(X_train, [1437, 8, 8])\n",
        "X_test_square = tf.reshape(X_test, [360, 8, 8])\n",
        "\n",
        "Cmodel = keras.Sequential()\n",
        "Cmodel.add(layers.Conv2D(32, (3,3), activation='relu', input_shape=(8, 8, 1)))\n",
        "Cmodel.add(layers.MaxPooling2D((2, 2)))\n",
        "Cmodel.add(layers.Flatten())\n",
        "Cmodel.add(layers.Dense(10, input_shape = (64,), activation='relu'))\n",
        "Cmodel.add(layers.Dense(10, activation='softmax'))\n",
        "\n",
        "Cmodel.compile(optimizer='sgd', loss='sparse_categorical_crossentropy', metrics=['accuracy'])\n",
        "Cmodel.fit(X_train_square, y_train, epochs=150, batch_size=32)\n"
      ],
      "metadata": {
        "id": "eTKQi8zZCaBW",
        "colab": {
          "base_uri": "https://localhost:8080/"
        },
        "outputId": "edd8af94-85d7-4ad8-c701-4674dfcd56e0"
      },
      "execution_count": 5,
      "outputs": [
        {
          "output_type": "stream",
          "name": "stdout",
          "text": [
            "Epoch 1/150\n",
            "45/45 [==============================] - 1s 4ms/step - loss: 2.1995 - accuracy: 0.1809\n",
            "Epoch 2/150\n",
            "45/45 [==============================] - 0s 3ms/step - loss: 1.7839 - accuracy: 0.3271\n",
            "Epoch 3/150\n",
            "45/45 [==============================] - 0s 3ms/step - loss: 1.3904 - accuracy: 0.4892\n",
            "Epoch 4/150\n",
            "45/45 [==============================] - 0s 3ms/step - loss: 1.0976 - accuracy: 0.6061\n",
            "Epoch 5/150\n",
            "45/45 [==============================] - 0s 3ms/step - loss: 0.8496 - accuracy: 0.7230\n",
            "Epoch 6/150\n",
            "45/45 [==============================] - 0s 3ms/step - loss: 0.6991 - accuracy: 0.7759\n",
            "Epoch 7/150\n",
            "45/45 [==============================] - 0s 4ms/step - loss: 0.5857 - accuracy: 0.8079\n",
            "Epoch 8/150\n",
            "45/45 [==============================] - 0s 3ms/step - loss: 0.4957 - accuracy: 0.8420\n",
            "Epoch 9/150\n",
            "45/45 [==============================] - 0s 4ms/step - loss: 0.4242 - accuracy: 0.8657\n",
            "Epoch 10/150\n",
            "45/45 [==============================] - 0s 2ms/step - loss: 0.3883 - accuracy: 0.8754\n",
            "Epoch 11/150\n",
            "45/45 [==============================] - 0s 2ms/step - loss: 0.3272 - accuracy: 0.8991\n",
            "Epoch 12/150\n",
            "45/45 [==============================] - 0s 2ms/step - loss: 0.2911 - accuracy: 0.9047\n",
            "Epoch 13/150\n",
            "45/45 [==============================] - 0s 2ms/step - loss: 0.3006 - accuracy: 0.8991\n",
            "Epoch 14/150\n",
            "45/45 [==============================] - 0s 3ms/step - loss: 0.2346 - accuracy: 0.9290\n",
            "Epoch 15/150\n",
            "45/45 [==============================] - 0s 3ms/step - loss: 0.2078 - accuracy: 0.9360\n",
            "Epoch 16/150\n",
            "45/45 [==============================] - 0s 2ms/step - loss: 0.1859 - accuracy: 0.9422\n",
            "Epoch 17/150\n",
            "45/45 [==============================] - 0s 3ms/step - loss: 0.1733 - accuracy: 0.9541\n",
            "Epoch 18/150\n",
            "45/45 [==============================] - 0s 3ms/step - loss: 0.1502 - accuracy: 0.9603\n",
            "Epoch 19/150\n",
            "45/45 [==============================] - 0s 2ms/step - loss: 0.1342 - accuracy: 0.9673\n",
            "Epoch 20/150\n",
            "45/45 [==============================] - 0s 2ms/step - loss: 0.1292 - accuracy: 0.9624\n",
            "Epoch 21/150\n",
            "45/45 [==============================] - 0s 3ms/step - loss: 0.1126 - accuracy: 0.9694\n",
            "Epoch 22/150\n",
            "45/45 [==============================] - 0s 7ms/step - loss: 0.1036 - accuracy: 0.9715\n",
            "Epoch 23/150\n",
            "45/45 [==============================] - 0s 3ms/step - loss: 0.0921 - accuracy: 0.9798\n",
            "Epoch 24/150\n",
            "45/45 [==============================] - 0s 3ms/step - loss: 0.0918 - accuracy: 0.9784\n",
            "Epoch 25/150\n",
            "45/45 [==============================] - 0s 2ms/step - loss: 0.0909 - accuracy: 0.9749\n",
            "Epoch 26/150\n",
            "45/45 [==============================] - 0s 2ms/step - loss: 0.0745 - accuracy: 0.9840\n",
            "Epoch 27/150\n",
            "45/45 [==============================] - 0s 3ms/step - loss: 0.0713 - accuracy: 0.9826\n",
            "Epoch 28/150\n",
            "45/45 [==============================] - 0s 4ms/step - loss: 0.0627 - accuracy: 0.9903\n",
            "Epoch 29/150\n",
            "45/45 [==============================] - 0s 3ms/step - loss: 0.0638 - accuracy: 0.9833\n",
            "Epoch 30/150\n",
            "45/45 [==============================] - 0s 4ms/step - loss: 0.0652 - accuracy: 0.9868\n",
            "Epoch 31/150\n",
            "45/45 [==============================] - 0s 3ms/step - loss: 0.0520 - accuracy: 0.9903\n",
            "Epoch 32/150\n",
            "45/45 [==============================] - 0s 4ms/step - loss: 0.0523 - accuracy: 0.9896\n",
            "Epoch 33/150\n",
            "45/45 [==============================] - 0s 3ms/step - loss: 0.0522 - accuracy: 0.9854\n",
            "Epoch 34/150\n",
            "45/45 [==============================] - 0s 4ms/step - loss: 0.0468 - accuracy: 0.9910\n",
            "Epoch 35/150\n",
            "45/45 [==============================] - 0s 3ms/step - loss: 0.0455 - accuracy: 0.9882\n",
            "Epoch 36/150\n",
            "45/45 [==============================] - 0s 3ms/step - loss: 0.0452 - accuracy: 0.9903\n",
            "Epoch 37/150\n",
            "45/45 [==============================] - 0s 3ms/step - loss: 0.0405 - accuracy: 0.9875\n",
            "Epoch 38/150\n",
            "45/45 [==============================] - 0s 3ms/step - loss: 0.0391 - accuracy: 0.9923\n",
            "Epoch 39/150\n",
            "45/45 [==============================] - 0s 2ms/step - loss: 0.0389 - accuracy: 0.9923\n",
            "Epoch 40/150\n",
            "45/45 [==============================] - 0s 3ms/step - loss: 0.0366 - accuracy: 0.9916\n",
            "Epoch 41/150\n",
            "45/45 [==============================] - 0s 3ms/step - loss: 0.0325 - accuracy: 0.9923\n",
            "Epoch 42/150\n",
            "45/45 [==============================] - 0s 3ms/step - loss: 0.0339 - accuracy: 0.9937\n",
            "Epoch 43/150\n",
            "45/45 [==============================] - 0s 4ms/step - loss: 0.0299 - accuracy: 0.9944\n",
            "Epoch 44/150\n",
            "45/45 [==============================] - 0s 2ms/step - loss: 0.0281 - accuracy: 0.9951\n",
            "Epoch 45/150\n",
            "45/45 [==============================] - 0s 2ms/step - loss: 0.0272 - accuracy: 0.9965\n",
            "Epoch 46/150\n",
            "45/45 [==============================] - 0s 3ms/step - loss: 0.0280 - accuracy: 0.9944\n",
            "Epoch 47/150\n",
            "45/45 [==============================] - 0s 6ms/step - loss: 0.0232 - accuracy: 0.9972\n",
            "Epoch 48/150\n",
            "45/45 [==============================] - 0s 4ms/step - loss: 0.0229 - accuracy: 0.9965\n",
            "Epoch 49/150\n",
            "45/45 [==============================] - 0s 4ms/step - loss: 0.0242 - accuracy: 0.9965\n",
            "Epoch 50/150\n",
            "45/45 [==============================] - 0s 3ms/step - loss: 0.0227 - accuracy: 0.9958\n",
            "Epoch 51/150\n",
            "45/45 [==============================] - 0s 3ms/step - loss: 0.0199 - accuracy: 0.9979\n",
            "Epoch 52/150\n",
            "45/45 [==============================] - 0s 2ms/step - loss: 0.0196 - accuracy: 0.9979\n",
            "Epoch 53/150\n",
            "45/45 [==============================] - 0s 3ms/step - loss: 0.0194 - accuracy: 0.9979\n",
            "Epoch 54/150\n",
            "45/45 [==============================] - 0s 2ms/step - loss: 0.0193 - accuracy: 0.9986\n",
            "Epoch 55/150\n",
            "45/45 [==============================] - 0s 4ms/step - loss: 0.0172 - accuracy: 0.9972\n",
            "Epoch 56/150\n",
            "45/45 [==============================] - 0s 3ms/step - loss: 0.0162 - accuracy: 0.9986\n",
            "Epoch 57/150\n",
            "45/45 [==============================] - 0s 2ms/step - loss: 0.0169 - accuracy: 0.9965\n",
            "Epoch 58/150\n",
            "45/45 [==============================] - 0s 3ms/step - loss: 0.0159 - accuracy: 0.9993\n",
            "Epoch 59/150\n",
            "45/45 [==============================] - 0s 2ms/step - loss: 0.0155 - accuracy: 0.9993\n",
            "Epoch 60/150\n",
            "45/45 [==============================] - 0s 3ms/step - loss: 0.0141 - accuracy: 0.9986\n",
            "Epoch 61/150\n",
            "45/45 [==============================] - 0s 2ms/step - loss: 0.0146 - accuracy: 0.9986\n",
            "Epoch 62/150\n",
            "45/45 [==============================] - 0s 2ms/step - loss: 0.0139 - accuracy: 0.9979\n",
            "Epoch 63/150\n",
            "45/45 [==============================] - 0s 4ms/step - loss: 0.0122 - accuracy: 0.9993\n",
            "Epoch 64/150\n",
            "45/45 [==============================] - 0s 3ms/step - loss: 0.0136 - accuracy: 0.9993\n",
            "Epoch 65/150\n",
            "45/45 [==============================] - 0s 2ms/step - loss: 0.0120 - accuracy: 1.0000\n",
            "Epoch 66/150\n",
            "45/45 [==============================] - 0s 3ms/step - loss: 0.0121 - accuracy: 1.0000\n",
            "Epoch 67/150\n",
            "45/45 [==============================] - 0s 2ms/step - loss: 0.0115 - accuracy: 0.9993\n",
            "Epoch 68/150\n",
            "45/45 [==============================] - 0s 2ms/step - loss: 0.0114 - accuracy: 1.0000\n",
            "Epoch 69/150\n",
            "45/45 [==============================] - 0s 2ms/step - loss: 0.0107 - accuracy: 0.9993\n",
            "Epoch 70/150\n",
            "45/45 [==============================] - 0s 2ms/step - loss: 0.0101 - accuracy: 1.0000\n",
            "Epoch 71/150\n",
            "45/45 [==============================] - 0s 2ms/step - loss: 0.0104 - accuracy: 1.0000\n",
            "Epoch 72/150\n",
            "45/45 [==============================] - 0s 2ms/step - loss: 0.0098 - accuracy: 1.0000\n",
            "Epoch 73/150\n",
            "45/45 [==============================] - 0s 2ms/step - loss: 0.0093 - accuracy: 1.0000\n",
            "Epoch 74/150\n",
            "45/45 [==============================] - 0s 2ms/step - loss: 0.0096 - accuracy: 0.9993\n",
            "Epoch 75/150\n",
            "45/45 [==============================] - 0s 2ms/step - loss: 0.0093 - accuracy: 1.0000\n",
            "Epoch 76/150\n",
            "45/45 [==============================] - 0s 2ms/step - loss: 0.0087 - accuracy: 1.0000\n",
            "Epoch 77/150\n",
            "45/45 [==============================] - 0s 2ms/step - loss: 0.0087 - accuracy: 1.0000\n",
            "Epoch 78/150\n",
            "45/45 [==============================] - 0s 2ms/step - loss: 0.0083 - accuracy: 1.0000\n",
            "Epoch 79/150\n",
            "45/45 [==============================] - 0s 2ms/step - loss: 0.0079 - accuracy: 1.0000\n",
            "Epoch 80/150\n",
            "45/45 [==============================] - 0s 2ms/step - loss: 0.0080 - accuracy: 1.0000\n",
            "Epoch 81/150\n",
            "45/45 [==============================] - 0s 2ms/step - loss: 0.0077 - accuracy: 1.0000\n",
            "Epoch 82/150\n",
            "45/45 [==============================] - 0s 2ms/step - loss: 0.0072 - accuracy: 1.0000\n",
            "Epoch 83/150\n",
            "45/45 [==============================] - 0s 2ms/step - loss: 0.0075 - accuracy: 1.0000\n",
            "Epoch 84/150\n",
            "45/45 [==============================] - 0s 2ms/step - loss: 0.0071 - accuracy: 1.0000\n",
            "Epoch 85/150\n",
            "45/45 [==============================] - 0s 2ms/step - loss: 0.0069 - accuracy: 1.0000\n",
            "Epoch 86/150\n",
            "45/45 [==============================] - 0s 2ms/step - loss: 0.0068 - accuracy: 1.0000\n",
            "Epoch 87/150\n",
            "45/45 [==============================] - 0s 2ms/step - loss: 0.0069 - accuracy: 1.0000\n",
            "Epoch 88/150\n",
            "45/45 [==============================] - 0s 2ms/step - loss: 0.0068 - accuracy: 1.0000\n",
            "Epoch 89/150\n",
            "45/45 [==============================] - 0s 2ms/step - loss: 0.0068 - accuracy: 1.0000\n",
            "Epoch 90/150\n",
            "45/45 [==============================] - 0s 2ms/step - loss: 0.0062 - accuracy: 1.0000\n",
            "Epoch 91/150\n",
            "45/45 [==============================] - 0s 2ms/step - loss: 0.0064 - accuracy: 1.0000\n",
            "Epoch 92/150\n",
            "45/45 [==============================] - 0s 2ms/step - loss: 0.0061 - accuracy: 1.0000\n",
            "Epoch 93/150\n",
            "45/45 [==============================] - 0s 2ms/step - loss: 0.0059 - accuracy: 1.0000\n",
            "Epoch 94/150\n",
            "45/45 [==============================] - 0s 2ms/step - loss: 0.0060 - accuracy: 1.0000\n",
            "Epoch 95/150\n",
            "45/45 [==============================] - 0s 2ms/step - loss: 0.0055 - accuracy: 1.0000\n",
            "Epoch 96/150\n",
            "45/45 [==============================] - 0s 2ms/step - loss: 0.0055 - accuracy: 1.0000\n",
            "Epoch 97/150\n",
            "45/45 [==============================] - 0s 2ms/step - loss: 0.0053 - accuracy: 1.0000\n",
            "Epoch 98/150\n",
            "45/45 [==============================] - 0s 2ms/step - loss: 0.0057 - accuracy: 1.0000\n",
            "Epoch 99/150\n",
            "45/45 [==============================] - 0s 2ms/step - loss: 0.0056 - accuracy: 1.0000\n",
            "Epoch 100/150\n",
            "45/45 [==============================] - 0s 2ms/step - loss: 0.0052 - accuracy: 1.0000\n",
            "Epoch 101/150\n",
            "45/45 [==============================] - 0s 2ms/step - loss: 0.0054 - accuracy: 1.0000\n",
            "Epoch 102/150\n",
            "45/45 [==============================] - 0s 2ms/step - loss: 0.0051 - accuracy: 1.0000\n",
            "Epoch 103/150\n",
            "45/45 [==============================] - 0s 2ms/step - loss: 0.0049 - accuracy: 1.0000\n",
            "Epoch 104/150\n",
            "45/45 [==============================] - 0s 2ms/step - loss: 0.0048 - accuracy: 1.0000\n",
            "Epoch 105/150\n",
            "45/45 [==============================] - 0s 2ms/step - loss: 0.0047 - accuracy: 1.0000\n",
            "Epoch 106/150\n",
            "45/45 [==============================] - 0s 2ms/step - loss: 0.0047 - accuracy: 1.0000\n",
            "Epoch 107/150\n",
            "45/45 [==============================] - 0s 2ms/step - loss: 0.0046 - accuracy: 1.0000\n",
            "Epoch 108/150\n",
            "45/45 [==============================] - 0s 2ms/step - loss: 0.0045 - accuracy: 1.0000\n",
            "Epoch 109/150\n",
            "45/45 [==============================] - 0s 2ms/step - loss: 0.0045 - accuracy: 1.0000\n",
            "Epoch 110/150\n",
            "45/45 [==============================] - 0s 2ms/step - loss: 0.0044 - accuracy: 1.0000\n",
            "Epoch 111/150\n",
            "45/45 [==============================] - 0s 2ms/step - loss: 0.0042 - accuracy: 1.0000\n",
            "Epoch 112/150\n",
            "45/45 [==============================] - 0s 2ms/step - loss: 0.0042 - accuracy: 1.0000\n",
            "Epoch 113/150\n",
            "45/45 [==============================] - 0s 2ms/step - loss: 0.0042 - accuracy: 1.0000\n",
            "Epoch 114/150\n",
            "45/45 [==============================] - 0s 2ms/step - loss: 0.0041 - accuracy: 1.0000\n",
            "Epoch 115/150\n",
            "45/45 [==============================] - 0s 2ms/step - loss: 0.0040 - accuracy: 1.0000\n",
            "Epoch 116/150\n",
            "45/45 [==============================] - 0s 2ms/step - loss: 0.0040 - accuracy: 1.0000\n",
            "Epoch 117/150\n",
            "45/45 [==============================] - 0s 2ms/step - loss: 0.0039 - accuracy: 1.0000\n",
            "Epoch 118/150\n",
            "45/45 [==============================] - 0s 2ms/step - loss: 0.0039 - accuracy: 1.0000\n",
            "Epoch 119/150\n",
            "45/45 [==============================] - 0s 2ms/step - loss: 0.0038 - accuracy: 1.0000\n",
            "Epoch 120/150\n",
            "45/45 [==============================] - 0s 2ms/step - loss: 0.0037 - accuracy: 1.0000\n",
            "Epoch 121/150\n",
            "45/45 [==============================] - 0s 2ms/step - loss: 0.0038 - accuracy: 1.0000\n",
            "Epoch 122/150\n",
            "45/45 [==============================] - 0s 2ms/step - loss: 0.0036 - accuracy: 1.0000\n",
            "Epoch 123/150\n",
            "45/45 [==============================] - 0s 2ms/step - loss: 0.0037 - accuracy: 1.0000\n",
            "Epoch 124/150\n",
            "45/45 [==============================] - 0s 2ms/step - loss: 0.0035 - accuracy: 1.0000\n",
            "Epoch 125/150\n",
            "45/45 [==============================] - 0s 2ms/step - loss: 0.0035 - accuracy: 1.0000\n",
            "Epoch 126/150\n",
            "45/45 [==============================] - 0s 2ms/step - loss: 0.0034 - accuracy: 1.0000\n",
            "Epoch 127/150\n",
            "45/45 [==============================] - 0s 2ms/step - loss: 0.0034 - accuracy: 1.0000\n",
            "Epoch 128/150\n",
            "45/45 [==============================] - 0s 2ms/step - loss: 0.0034 - accuracy: 1.0000\n",
            "Epoch 129/150\n",
            "45/45 [==============================] - 0s 2ms/step - loss: 0.0032 - accuracy: 1.0000\n",
            "Epoch 130/150\n",
            "45/45 [==============================] - 0s 2ms/step - loss: 0.0033 - accuracy: 1.0000\n",
            "Epoch 131/150\n",
            "45/45 [==============================] - 0s 2ms/step - loss: 0.0032 - accuracy: 1.0000\n",
            "Epoch 132/150\n",
            "45/45 [==============================] - 0s 2ms/step - loss: 0.0032 - accuracy: 1.0000\n",
            "Epoch 133/150\n",
            "45/45 [==============================] - 0s 2ms/step - loss: 0.0031 - accuracy: 1.0000\n",
            "Epoch 134/150\n",
            "45/45 [==============================] - 0s 2ms/step - loss: 0.0032 - accuracy: 1.0000\n",
            "Epoch 135/150\n",
            "45/45 [==============================] - 0s 2ms/step - loss: 0.0031 - accuracy: 1.0000\n",
            "Epoch 136/150\n",
            "45/45 [==============================] - 0s 2ms/step - loss: 0.0031 - accuracy: 1.0000\n",
            "Epoch 137/150\n",
            "45/45 [==============================] - 0s 2ms/step - loss: 0.0031 - accuracy: 1.0000\n",
            "Epoch 138/150\n",
            "45/45 [==============================] - 0s 2ms/step - loss: 0.0030 - accuracy: 1.0000\n",
            "Epoch 139/150\n",
            "45/45 [==============================] - 0s 2ms/step - loss: 0.0030 - accuracy: 1.0000\n",
            "Epoch 140/150\n",
            "45/45 [==============================] - 0s 2ms/step - loss: 0.0029 - accuracy: 1.0000\n",
            "Epoch 141/150\n",
            "45/45 [==============================] - 0s 2ms/step - loss: 0.0029 - accuracy: 1.0000\n",
            "Epoch 142/150\n",
            "45/45 [==============================] - 0s 2ms/step - loss: 0.0029 - accuracy: 1.0000\n",
            "Epoch 143/150\n",
            "45/45 [==============================] - 0s 2ms/step - loss: 0.0028 - accuracy: 1.0000\n",
            "Epoch 144/150\n",
            "45/45 [==============================] - 0s 2ms/step - loss: 0.0028 - accuracy: 1.0000\n",
            "Epoch 145/150\n",
            "45/45 [==============================] - 0s 2ms/step - loss: 0.0028 - accuracy: 1.0000\n",
            "Epoch 146/150\n",
            "45/45 [==============================] - 0s 2ms/step - loss: 0.0027 - accuracy: 1.0000\n",
            "Epoch 147/150\n",
            "45/45 [==============================] - 0s 2ms/step - loss: 0.0027 - accuracy: 1.0000\n",
            "Epoch 148/150\n",
            "45/45 [==============================] - 0s 2ms/step - loss: 0.0027 - accuracy: 1.0000\n",
            "Epoch 149/150\n",
            "45/45 [==============================] - 0s 2ms/step - loss: 0.0026 - accuracy: 1.0000\n",
            "Epoch 150/150\n",
            "45/45 [==============================] - 0s 2ms/step - loss: 0.0026 - accuracy: 1.0000\n"
          ]
        },
        {
          "output_type": "execute_result",
          "data": {
            "text/plain": [
              "<keras.callbacks.History at 0x7f1245464fd0>"
            ]
          },
          "metadata": {},
          "execution_count": 5
        }
      ]
    },
    {
      "cell_type": "markdown",
      "source": [
        "Here, we have to reshape the 64 features into our 8X8 matrix.\n",
        "\n",
        "We use the same Sequential model, but we add Conv2D (that is, convolution layers that work on 2D data) and MaxPooling2D layers. I have to specify the size and shape of my convolution matrix and pooling matrix.\n",
        "\n",
        "I \"Flatten\" the layers after my 2D processing in order for them to connect to a Dense layer."
      ],
      "metadata": {
        "id": "GNyH21jQIPbk"
      }
    },
    {
      "cell_type": "code",
      "source": [
        "loss, acc = Cmodel.evaluate(X_test_square, y_test)\n",
        "print('Test Accuracy CNN ' + str(acc))"
      ],
      "metadata": {
        "id": "9OuHp1bPI3wE",
        "colab": {
          "base_uri": "https://localhost:8080/"
        },
        "outputId": "fe9d4903-bca7-42cf-85a9-6792f73e57a3"
      },
      "execution_count": 6,
      "outputs": [
        {
          "output_type": "stream",
          "name": "stdout",
          "text": [
            "12/12 [==============================] - 0s 2ms/step - loss: 0.1095 - accuracy: 0.9861\n",
            "Test Accuracy CNN 0.9861111044883728\n"
          ]
        }
      ]
    },
    {
      "cell_type": "markdown",
      "source": [
        "Now, let's look at a Time-Series problem, and use an LSTM model to fit."
      ],
      "metadata": {
        "id": "qVx1F7aOI0Lf"
      }
    },
    {
      "cell_type": "code",
      "execution_count": 7,
      "metadata": {
        "id": "vOWNEor-cK6E",
        "colab": {
          "base_uri": "https://localhost:8080/",
          "height": 296
        },
        "outputId": "64bf1681-69e7-4fae-cbed-6a6e0a450d21"
      },
      "outputs": [
        {
          "output_type": "display_data",
          "data": {
            "text/plain": [
              "<Figure size 792x288 with 2 Axes>"
            ],
            "image/png": "[encoded data removed]"
          },
          "metadata": {
            "needs_background": "light"
          }
        }
      ],
      "source": [
        "def create_ts(start = '2001', n = 2001, freq = 'M'):\n",
        "    rng = pd.date_range(start=start, periods=n, freq=freq)\n",
        "    ts = pd.Series(np.random.uniform(-18, 18, size=len(rng)), rng).cumsum()\n",
        "    return ts\n",
        "\n",
        "ts = create_ts(start = '2001', n = 2222)\n",
        "\n",
        "# Left\n",
        "plt.figure(figsize=(11,4))\n",
        "plt.subplot(121)\n",
        "plt.plot(ts.index, ts)\n",
        "plt.plot(ts.index[90:100], ts[90:100], \"b-\", linewidth=3, label=\"A training instance\")\n",
        "plt.title(\"A time series (generated)\", fontsize=14)\n",
        "\n",
        "# Right\n",
        "plt.subplot(122)\n",
        "plt.title(\"A training instance\", fontsize=14)\n",
        "plt.plot(ts.index[90:100], ts[90:100], \"b-\", markersize=8, label=\"instance\")\n",
        "plt.plot(ts.index[91:101], ts[91:101], \"bo\", markersize=10, label=\"target\", markerfacecolor='red')\n",
        "plt.legend(loc=\"upper left\")\n",
        "plt.xlabel(\"Time\")\n",
        "\n",
        "plt.show()"
      ]
    },
    {
      "cell_type": "code",
      "execution_count": 8,
      "metadata": {
        "id": "m-oroglvca3n"
      },
      "outputs": [],
      "source": [
        "series = np.array(ts)\n",
        "n_windows = 20   \n",
        "n_input =  1\n",
        "n_output = 1\n",
        "size_train = 2001"
      ]
    },
    {
      "cell_type": "code",
      "execution_count": 9,
      "metadata": {
        "id": "V9aOGrSgcbuy",
        "colab": {
          "base_uri": "https://localhost:8080/"
        },
        "outputId": "1dffe702-12a3-4cc8-9af9-8a664a22a5b9"
      },
      "outputs": [
        {
          "output_type": "stream",
          "name": "stdout",
          "text": [
            "(2001,) (221,)\n"
          ]
        }
      ],
      "source": [
        "## Split data\n",
        "train = series[:size_train]\n",
        "test = series[size_train:]\n",
        "print(train.shape, test.shape)"
      ]
    },
    {
      "cell_type": "code",
      "execution_count": 10,
      "metadata": {
        "id": "6DRE_9m9ckdv"
      },
      "outputs": [],
      "source": [
        "def create_batches(df, windows, input, output):\n",
        "    ## Create X         \n",
        "        x_data = df[:len(df)-1] # Select the data\n",
        "        X_batches = x_data.reshape(-1, windows, input)  # Reshape the data \n",
        "    ## Create y\n",
        "        y_data = df[n_output:len(df)]\n",
        "        y_batches = y_data.reshape(-1, windows, output)\n",
        "        return X_batches, y_batches"
      ]
    },
    {
      "cell_type": "code",
      "execution_count": 11,
      "metadata": {
        "id": "G25bhvWq1HT7",
        "colab": {
          "base_uri": "https://localhost:8080/"
        },
        "outputId": "68005324-5080-453e-a9e1-66bc634fb820"
      },
      "outputs": [
        {
          "output_type": "stream",
          "name": "stdout",
          "text": [
            "(11, 20, 1) (11, 20, 1)\n",
            "[143.48976569 153.58037055 153.82524345 159.36663727 168.03230162\n",
            " 160.5154155  176.4413652  174.53731923 175.7842566  168.51391673\n",
            " 181.74663228 199.5583944  209.57502105 207.12263146 215.5885673\n",
            " 198.37413428 210.83859266 212.2460195  203.61190466 208.20015695\n",
            " 224.53779493 211.75584803 215.5494587  232.76734526 237.91400085\n",
            " 241.6133677  249.91702546 237.75799581 226.4206793  210.42256305\n",
            " 208.47737078 208.29161317 215.62551874 216.87019792 231.81138012\n",
            " 232.88996186 237.94775199 222.31944523 221.88693435 228.72910211\n",
            " 217.94172658 225.37275123 214.66281298 205.98287115 222.90931256\n",
            " 205.86643906 223.15582245 219.61798692 209.27884133 216.71466573\n",
            " 226.81046625 214.20430683 199.67763823 196.27113062 202.0911886\n",
            " 218.7832653  207.19886248 218.30930508 209.60657414 226.16082098\n",
            " 234.52560133 239.23015057 238.07588732 245.76257118 229.53316947\n",
            " 240.98218442 257.71746989 255.54794929 259.3204645  251.17097003\n",
            " 238.3831608  237.86997312 245.9056261  235.36273612 230.6399174\n",
            " 232.76804642 226.06403712 243.87354051 231.13840992 239.3517392\n",
            " 229.18338354 214.42716269 229.88200775 237.94348617 239.43689374\n",
            " 253.84433733 239.56641948 250.47658123 258.05774526 245.98417854\n",
            " 245.56286921 232.10904618 238.52530974 247.03621545 233.56212437\n",
            " 245.17656947 243.74044867 234.6137176  246.85570051 239.08010183\n",
            " 227.43459987 230.52455502 212.68435078 202.13847028 200.19697555\n",
            " 184.59984128 171.00134866 154.38916616 169.13183823 165.32871479\n",
            " 168.67465435 155.49559103 144.31292149 131.52191733 146.42925699\n",
            " 145.15700314 138.96760074 130.70390092 127.2230878  118.11528775\n",
            " 124.20761584 137.20392729 147.56275376 133.9528717  151.64113784\n",
            " 161.49526632 156.4906039  138.50399968 151.88634996 136.17916447\n",
            " 128.68459263 143.09590838 159.02924802 171.61519544 174.22413622\n",
            " 182.34782233 190.31934047 199.75769489 216.07031073 198.94829704\n",
            " 216.81081436 233.74990228 243.14951931 260.90076791 245.55513872\n",
            " 236.42385843 234.70741468 221.53087671 213.1243017  228.80501367\n",
            " 239.11295125 228.72861504 216.34953618 211.1804055  217.23508464\n",
            " 220.85906399 223.41312924 232.43484115 226.38608807 213.40211335\n",
            " 208.07337597 203.26726612 215.88694857 225.01262773 207.61182808\n",
            " 202.53321117 187.36167924 184.58943586 199.03872933 188.07022244\n",
            " 195.78024093 213.4767118  230.13120048 226.96293981 232.18850236\n",
            " 223.66524608 222.63984696 204.67908298 205.61939042 200.51606988\n",
            " 205.868054   195.71934415 180.70017353 189.37761355 180.2854937\n",
            " 196.60091705 204.20143829 215.86080241 218.62937802 212.84850033\n",
            " 227.75853396 245.10551882 243.13758119 233.19102546 234.80331268\n",
            " 238.67424361 238.39645708 252.14395814 236.44345268 232.02674274\n",
            " 249.89447409 248.71835924 257.88077214 240.77558566 230.40233022\n",
            " 225.62151156 223.08011689 222.11511522 214.62302013 213.7552857\n",
            " 204.08376847 215.29236378 223.85430056 217.44961321 216.25537567\n",
            " 231.01652353 227.98381771 234.02415165 225.38067991 209.3077106\n",
            " 219.33617136]\n",
            "[[[143.48976569]\n",
            "  [153.58037055]\n",
            "  [153.82524345]\n",
            "  [159.36663727]\n",
            "  [168.03230162]\n",
            "  [160.5154155 ]\n",
            "  [176.4413652 ]\n",
            "  [174.53731923]\n",
            "  [175.7842566 ]\n",
            "  [168.51391673]\n",
            "  [181.74663228]\n",
            "  [199.5583944 ]\n",
            "  [209.57502105]\n",
            "  [207.12263146]\n",
            "  [215.5885673 ]\n",
            "  [198.37413428]\n",
            "  [210.83859266]\n",
            "  [212.2460195 ]\n",
            "  [203.61190466]\n",
            "  [208.20015695]]\n",
            "\n",
            " [[224.53779493]\n",
            "  [211.75584803]\n",
            "  [215.5494587 ]\n",
            "  [232.76734526]\n",
            "  [237.91400085]\n",
            "  [241.6133677 ]\n",
            "  [249.91702546]\n",
            "  [237.75799581]\n",
            "  [226.4206793 ]\n",
            "  [210.42256305]\n",
            "  [208.47737078]\n",
            "  [208.29161317]\n",
            "  [215.62551874]\n",
            "  [216.87019792]\n",
            "  [231.81138012]\n",
            "  [232.88996186]\n",
            "  [237.94775199]\n",
            "  [222.31944523]\n",
            "  [221.88693435]\n",
            "  [228.72910211]]\n",
            "\n",
            " [[217.94172658]\n",
            "  [225.37275123]\n",
            "  [214.66281298]\n",
            "  [205.98287115]\n",
            "  [222.90931256]\n",
            "  [205.86643906]\n",
            "  [223.15582245]\n",
            "  [219.61798692]\n",
            "  [209.27884133]\n",
            "  [216.71466573]\n",
            "  [226.81046625]\n",
            "  [214.20430683]\n",
            "  [199.67763823]\n",
            "  [196.27113062]\n",
            "  [202.0911886 ]\n",
            "  [218.7832653 ]\n",
            "  [207.19886248]\n",
            "  [218.30930508]\n",
            "  [209.60657414]\n",
            "  [226.16082098]]\n",
            "\n",
            " [[234.52560133]\n",
            "  [239.23015057]\n",
            "  [238.07588732]\n",
            "  [245.76257118]\n",
            "  [229.53316947]\n",
            "  [240.98218442]\n",
            "  [257.71746989]\n",
            "  [255.54794929]\n",
            "  [259.3204645 ]\n",
            "  [251.17097003]\n",
            "  [238.3831608 ]\n",
            "  [237.86997312]\n",
            "  [245.9056261 ]\n",
            "  [235.36273612]\n",
            "  [230.6399174 ]\n",
            "  [232.76804642]\n",
            "  [226.06403712]\n",
            "  [243.87354051]\n",
            "  [231.13840992]\n",
            "  [239.3517392 ]]\n",
            "\n",
            " [[229.18338354]\n",
            "  [214.42716269]\n",
            "  [229.88200775]\n",
            "  [237.94348617]\n",
            "  [239.43689374]\n",
            "  [253.84433733]\n",
            "  [239.56641948]\n",
            "  [250.47658123]\n",
            "  [258.05774526]\n",
            "  [245.98417854]\n",
            "  [245.56286921]\n",
            "  [232.10904618]\n",
            "  [238.52530974]\n",
            "  [247.03621545]\n",
            "  [233.56212437]\n",
            "  [245.17656947]\n",
            "  [243.74044867]\n",
            "  [234.6137176 ]\n",
            "  [246.85570051]\n",
            "  [239.08010183]]\n",
            "\n",
            " [[227.43459987]\n",
            "  [230.52455502]\n",
            "  [212.68435078]\n",
            "  [202.13847028]\n",
            "  [200.19697555]\n",
            "  [184.59984128]\n",
            "  [171.00134866]\n",
            "  [154.38916616]\n",
            "  [169.13183823]\n",
            "  [165.32871479]\n",
            "  [168.67465435]\n",
            "  [155.49559103]\n",
            "  [144.31292149]\n",
            "  [131.52191733]\n",
            "  [146.42925699]\n",
            "  [145.15700314]\n",
            "  [138.96760074]\n",
            "  [130.70390092]\n",
            "  [127.2230878 ]\n",
            "  [118.11528775]]\n",
            "\n",
            " [[124.20761584]\n",
            "  [137.20392729]\n",
            "  [147.56275376]\n",
            "  [133.9528717 ]\n",
            "  [151.64113784]\n",
            "  [161.49526632]\n",
            "  [156.4906039 ]\n",
            "  [138.50399968]\n",
            "  [151.88634996]\n",
            "  [136.17916447]\n",
            "  [128.68459263]\n",
            "  [143.09590838]\n",
            "  [159.02924802]\n",
            "  [171.61519544]\n",
            "  [174.22413622]\n",
            "  [182.34782233]\n",
            "  [190.31934047]\n",
            "  [199.75769489]\n",
            "  [216.07031073]\n",
            "  [198.94829704]]\n",
            "\n",
            " [[216.81081436]\n",
            "  [233.74990228]\n",
            "  [243.14951931]\n",
            "  [260.90076791]\n",
            "  [245.55513872]\n",
            "  [236.42385843]\n",
            "  [234.70741468]\n",
            "  [221.53087671]\n",
            "  [213.1243017 ]\n",
            "  [228.80501367]\n",
            "  [239.11295125]\n",
            "  [228.72861504]\n",
            "  [216.34953618]\n",
            "  [211.1804055 ]\n",
            "  [217.23508464]\n",
            "  [220.85906399]\n",
            "  [223.41312924]\n",
            "  [232.43484115]\n",
            "  [226.38608807]\n",
            "  [213.40211335]]\n",
            "\n",
            " [[208.07337597]\n",
            "  [203.26726612]\n",
            "  [215.88694857]\n",
            "  [225.01262773]\n",
            "  [207.61182808]\n",
            "  [202.53321117]\n",
            "  [187.36167924]\n",
            "  [184.58943586]\n",
            "  [199.03872933]\n",
            "  [188.07022244]\n",
            "  [195.78024093]\n",
            "  [213.4767118 ]\n",
            "  [230.13120048]\n",
            "  [226.96293981]\n",
            "  [232.18850236]\n",
            "  [223.66524608]\n",
            "  [222.63984696]\n",
            "  [204.67908298]\n",
            "  [205.61939042]\n",
            "  [200.51606988]]\n",
            "\n",
            " [[205.868054  ]\n",
            "  [195.71934415]\n",
            "  [180.70017353]\n",
            "  [189.37761355]\n",
            "  [180.2854937 ]\n",
            "  [196.60091705]\n",
            "  [204.20143829]\n",
            "  [215.86080241]\n",
            "  [218.62937802]\n",
            "  [212.84850033]\n",
            "  [227.75853396]\n",
            "  [245.10551882]\n",
            "  [243.13758119]\n",
            "  [233.19102546]\n",
            "  [234.80331268]\n",
            "  [238.67424361]\n",
            "  [238.39645708]\n",
            "  [252.14395814]\n",
            "  [236.44345268]\n",
            "  [232.02674274]]\n",
            "\n",
            " [[249.89447409]\n",
            "  [248.71835924]\n",
            "  [257.88077214]\n",
            "  [240.77558566]\n",
            "  [230.40233022]\n",
            "  [225.62151156]\n",
            "  [223.08011689]\n",
            "  [222.11511522]\n",
            "  [214.62302013]\n",
            "  [213.7552857 ]\n",
            "  [204.08376847]\n",
            "  [215.29236378]\n",
            "  [223.85430056]\n",
            "  [217.44961321]\n",
            "  [216.25537567]\n",
            "  [231.01652353]\n",
            "  [227.98381771]\n",
            "  [234.02415165]\n",
            "  [225.38067991]\n",
            "  [209.3077106 ]]]\n"
          ]
        }
      ],
      "source": [
        "X_test, y_test = create_batches(df = test, windows = 20,input = 1, output = 1)\n",
        "print(X_test.shape, y_test.shape)\n",
        "print(test)\n",
        "print(X_test)\n"
      ]
    },
    {
      "cell_type": "code",
      "execution_count": 12,
      "metadata": {
        "id": "8gIYqE2zcnEE",
        "colab": {
          "base_uri": "https://localhost:8080/"
        },
        "outputId": "5480064c-b2e6-428d-9ae2-032400cbd7bf"
      },
      "outputs": [
        {
          "output_type": "stream",
          "name": "stdout",
          "text": [
            "(100, 20, 1) (100, 20, 1)\n",
            "(11, 20, 1) (11, 20, 1)\n"
          ]
        }
      ],
      "source": [
        "X_batches, y_batches = create_batches(df = train,\n",
        "                                      windows = n_windows,\n",
        "                                      input = n_input,\n",
        "                                      output = n_output)\n",
        "print(X_batches.shape, y_batches.shape)\n",
        "\n",
        "X_test, y_test = create_batches(df = test, windows = n_windows,input = n_input, output = n_output)\n",
        "print(X_test.shape, y_test.shape)"
      ]
    },
    {
      "cell_type": "code",
      "execution_count": 13,
      "metadata": {
        "id": "l2IftcLyc8ka"
      },
      "outputs": [],
      "source": [
        "\n",
        "model = keras.Sequential()\n",
        "\n",
        "# Add a LSTM layer with internal units.\n",
        "model.add(layers.LSTM(500, input_shape=(20,1), activation = 'ReLU'))\n",
        "\n",
        "# Add a Dense layer for output.\n",
        "model.add(layers.Dense(1, activation=None))\n",
        "\n",
        "## 3. Loss + optimization\n",
        "learning_rate = 0.001  \n",
        "\n",
        "\n",
        "model.compile(\n",
        "    optimizer='adam',\n",
        "    loss='mean_squared_error',\n",
        "    metrics=[\n",
        "        tf.metrics.MeanSquaredError(),\n",
        "    ]\n",
        ")    \n"
      ]
    },
    {
      "cell_type": "code",
      "execution_count": 14,
      "metadata": {
        "id": "bxBrghXidbbR",
        "colab": {
          "base_uri": "https://localhost:8080/",
          "height": 1000
        },
        "outputId": "bbd66d04-ecc9-4c45-eb03-962c814ea1ce"
      },
      "outputs": [
        {
          "output_type": "stream",
          "name": "stdout",
          "text": [
            "Epoch 1/50\n",
            "4/4 [==============================] - 2s 133ms/step - loss: 7922.9595 - mean_squared_error: 7922.9595\n",
            "Epoch 2/50\n",
            "4/4 [==============================] - 1s 128ms/step - loss: 1106.0563 - mean_squared_error: 1106.0563\n",
            "Epoch 3/50\n",
            "4/4 [==============================] - 1s 146ms/step - loss: 2227.6016 - mean_squared_error: 2227.6016\n",
            "Epoch 4/50\n",
            "4/4 [==============================] - 1s 146ms/step - loss: 933.5176 - mean_squared_error: 933.5176\n",
            "Epoch 5/50\n",
            "4/4 [==============================] - 1s 142ms/step - loss: 816.7957 - mean_squared_error: 816.7957\n",
            "Epoch 6/50\n",
            "4/4 [==============================] - 1s 143ms/step - loss: 572.1492 - mean_squared_error: 572.1492\n",
            "Epoch 7/50\n",
            "4/4 [==============================] - 1s 144ms/step - loss: 647.7036 - mean_squared_error: 647.7036\n",
            "Epoch 8/50\n",
            "4/4 [==============================] - 1s 140ms/step - loss: 798.1359 - mean_squared_error: 798.1359\n",
            "Epoch 9/50\n",
            "4/4 [==============================] - 1s 131ms/step - loss: 445.5127 - mean_squared_error: 445.5127\n",
            "Epoch 10/50\n",
            "4/4 [==============================] - 1s 155ms/step - loss: 673.4926 - mean_squared_error: 673.4926\n",
            "Epoch 11/50\n",
            "4/4 [==============================] - 1s 139ms/step - loss: 975.0385 - mean_squared_error: 975.0385\n",
            "Epoch 12/50\n",
            "4/4 [==============================] - 0s 81ms/step - loss: 1210.2184 - mean_squared_error: 1210.2184\n",
            "Epoch 13/50\n",
            "4/4 [==============================] - 0s 84ms/step - loss: 664.0246 - mean_squared_error: 664.0246\n",
            "Epoch 14/50\n",
            "4/4 [==============================] - 0s 79ms/step - loss: 459.4358 - mean_squared_error: 459.4358\n",
            "Epoch 15/50\n",
            "4/4 [==============================] - 0s 83ms/step - loss: 536.6044 - mean_squared_error: 536.6044\n",
            "Epoch 16/50\n",
            "4/4 [==============================] - 0s 84ms/step - loss: 639.0001 - mean_squared_error: 639.0001\n",
            "Epoch 17/50\n",
            "4/4 [==============================] - 0s 81ms/step - loss: 458.4196 - mean_squared_error: 458.4196\n",
            "Epoch 18/50\n",
            "4/4 [==============================] - 0s 80ms/step - loss: 432.5646 - mean_squared_error: 432.5646\n",
            "Epoch 19/50\n",
            "4/4 [==============================] - 0s 83ms/step - loss: 384.0617 - mean_squared_error: 384.0617\n",
            "Epoch 20/50\n",
            "4/4 [==============================] - 0s 80ms/step - loss: 372.9514 - mean_squared_error: 372.9514\n",
            "Epoch 21/50\n",
            "4/4 [==============================] - 0s 77ms/step - loss: 539.5402 - mean_squared_error: 539.5402\n",
            "Epoch 22/50\n",
            "4/4 [==============================] - 0s 83ms/step - loss: 382.2247 - mean_squared_error: 382.2247\n",
            "Epoch 23/50\n",
            "4/4 [==============================] - 0s 81ms/step - loss: 398.4603 - mean_squared_error: 398.4603\n",
            "Epoch 24/50\n",
            "4/4 [==============================] - 0s 81ms/step - loss: 414.5751 - mean_squared_error: 414.5751\n",
            "Epoch 25/50\n",
            "4/4 [==============================] - 0s 83ms/step - loss: 400.1811 - mean_squared_error: 400.1811\n",
            "Epoch 26/50\n",
            "4/4 [==============================] - 0s 79ms/step - loss: 359.8566 - mean_squared_error: 359.8566\n",
            "Epoch 27/50\n",
            "4/4 [==============================] - 0s 81ms/step - loss: 358.8096 - mean_squared_error: 358.8096\n",
            "Epoch 28/50\n",
            "4/4 [==============================] - 0s 82ms/step - loss: 353.6798 - mean_squared_error: 353.6798\n",
            "Epoch 29/50\n",
            "4/4 [==============================] - 0s 82ms/step - loss: 359.1866 - mean_squared_error: 359.1866\n",
            "Epoch 30/50\n",
            "4/4 [==============================] - 0s 80ms/step - loss: 345.2800 - mean_squared_error: 345.2800\n",
            "Epoch 31/50\n",
            "4/4 [==============================] - 0s 86ms/step - loss: 345.1088 - mean_squared_error: 345.1088\n",
            "Epoch 32/50\n",
            "4/4 [==============================] - 0s 84ms/step - loss: 363.6709 - mean_squared_error: 363.6709\n",
            "Epoch 33/50\n",
            "4/4 [==============================] - 0s 78ms/step - loss: 356.0756 - mean_squared_error: 356.0756\n",
            "Epoch 34/50\n",
            "4/4 [==============================] - 0s 88ms/step - loss: 383.3877 - mean_squared_error: 383.3877\n",
            "Epoch 35/50\n",
            "4/4 [==============================] - 1s 137ms/step - loss: 351.7752 - mean_squared_error: 351.7752\n",
            "Epoch 36/50\n",
            "4/4 [==============================] - 1s 158ms/step - loss: 356.1219 - mean_squared_error: 356.1219\n",
            "Epoch 37/50\n",
            "4/4 [==============================] - 1s 139ms/step - loss: 347.0582 - mean_squared_error: 347.0582\n",
            "Epoch 38/50\n",
            "4/4 [==============================] - 0s 81ms/step - loss: 342.3635 - mean_squared_error: 342.3635\n",
            "Epoch 39/50\n",
            "4/4 [==============================] - 0s 82ms/step - loss: 353.8097 - mean_squared_error: 353.8097\n",
            "Epoch 40/50\n",
            "4/4 [==============================] - 0s 83ms/step - loss: 361.8810 - mean_squared_error: 361.8810\n",
            "Epoch 41/50\n",
            "4/4 [==============================] - 0s 83ms/step - loss: 354.8575 - mean_squared_error: 354.8575\n",
            "Epoch 42/50\n",
            "4/4 [==============================] - 0s 81ms/step - loss: 352.9301 - mean_squared_error: 352.9301\n",
            "Epoch 43/50\n",
            "4/4 [==============================] - 0s 84ms/step - loss: 347.9598 - mean_squared_error: 347.9598\n",
            "Epoch 44/50\n",
            "4/4 [==============================] - 0s 82ms/step - loss: 345.7264 - mean_squared_error: 345.7264\n",
            "Epoch 45/50\n",
            "4/4 [==============================] - 0s 83ms/step - loss: 342.0246 - mean_squared_error: 342.0246\n",
            "Epoch 46/50\n",
            "4/4 [==============================] - 0s 83ms/step - loss: 339.2615 - mean_squared_error: 339.2615\n",
            "Epoch 47/50\n",
            "4/4 [==============================] - 0s 82ms/step - loss: 341.0250 - mean_squared_error: 341.0250\n",
            "Epoch 48/50\n",
            "4/4 [==============================] - 0s 84ms/step - loss: 342.1383 - mean_squared_error: 342.1383\n",
            "Epoch 49/50\n",
            "4/4 [==============================] - 0s 83ms/step - loss: 338.9589 - mean_squared_error: 338.9589\n",
            "Epoch 50/50\n",
            "4/4 [==============================] - 0s 85ms/step - loss: 339.0172 - mean_squared_error: 339.0172\n"
          ]
        },
        {
          "output_type": "execute_result",
          "data": {
            "text/plain": [
              "<Figure size 432x288 with 0 Axes>"
            ]
          },
          "metadata": {},
          "execution_count": 14
        },
        {
          "output_type": "display_data",
          "data": {
            "text/plain": [
              "<Figure size 432x288 with 1 Axes>"
            ],
            "image/png": "[encoded data removed]"
          },
          "metadata": {
            "needs_background": "light"
          }
        },
        {
          "output_type": "display_data",
          "data": {
            "text/plain": [
              "<Figure size 432x288 with 0 Axes>"
            ]
          },
          "metadata": {}
        }
      ],
      "source": [
        "history = model.fit(X_batches,y_batches, epochs=50)\n",
        "\n",
        "# Retrieve a list of accuracy results on training and validation data\n",
        "# sets for each training epoch\n",
        "mse = history.history['mean_squared_error']\n",
        "#val_acc = history.history['val_acc']\n",
        "\n",
        "# Get number of epochs\n",
        "epochs = range(len(mse))\n",
        "\n",
        "# Plot training and validation accuracy per epoch\n",
        "plt.plot(epochs, mse)\n",
        "plt.title('Training MSE')\n",
        "\n",
        "plt.figure()"
      ]
    },
    {
      "cell_type": "code",
      "execution_count": 14,
      "metadata": {
        "id": "07kqIiAwdpnh"
      },
      "outputs": [],
      "source": []
    }
  ],
  "metadata": {
    "colab": {
      "collapsed_sections": [],
      "provenance": []
    },
    "kernelspec": {
      "display_name": "Python 3",
      "name": "python3"
    },
    "language_info": {
      "name": "python"
    }
  },
  "nbformat": 4,
  "nbformat_minor": 0
}